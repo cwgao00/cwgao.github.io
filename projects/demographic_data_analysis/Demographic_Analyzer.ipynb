{
 "cells": [
  {
   "cell_type": "markdown",
   "id": "d1e007e5-0c2e-4814-b675-7e9a77281dc7",
   "metadata": {},
   "source": [
    "# 1. Demographic Data Analyzer\n",
    "\n",
    "### 1.1 About\n",
    "This project is my first project working with sample data. This is part of the [freeCodeCamp Data Analysis with Python Certification](https://www.freecodecamp.org/learn/data-analysis-with-python/)\n",
    "For this project, I will analyze demographic data using Pandas. A dataset of demographic data that was extracted from the 1994 Census database is provided.\n",
    "\n",
    "### 1.2 Questions Asked\n",
    "1. How many people of each race are represented in this dataset? This should be a Pandas series with race names as the index labels. (race column)\n",
    "2. What is the average age of men?\n",
    "3. What is the percentage of people who have a Bachelor's degree?\n",
    "4. What percentage of people with advanced education (Bachelors, Masters, or Doctorate) make more than 50K?\n",
    "5. What percentage of people without advanced education make more than 50K?\n",
    "6. What is the minimum number of hours a person works per week?\n",
    "7. What percentage of the people who work the minimum number of hours per week have a salary of more than 50K?\n",
    "8. What country has the highest percentage of people that earn >50K and what is that percentage?\n",
    "9. Identify the most popular occupation for those who earn >50K in India.\n",
    "    \n",
    "*Round all decimals to the nearest tenth.*"
   ]
  },
  {
   "cell_type": "code",
   "execution_count": 12,
   "id": "187a17bf-f19a-4e1a-a041-ad3f5fd95632",
   "metadata": {},
   "outputs": [],
   "source": [
    "import pandas as pd\n",
    "df = pd.read_csv('adult.data.csv')"
   ]
  },
  {
   "cell_type": "code",
   "execution_count": 13,
   "id": "1dde96ed-6d1d-4e97-a100-eff770557725",
   "metadata": {},
   "outputs": [
    {
     "data": {
      "text/html": [
       "<div>\n",
       "<style scoped>\n",
       "    .dataframe tbody tr th:only-of-type {\n",
       "        vertical-align: middle;\n",
       "    }\n",
       "\n",
       "    .dataframe tbody tr th {\n",
       "        vertical-align: top;\n",
       "    }\n",
       "\n",
       "    .dataframe thead th {\n",
       "        text-align: right;\n",
       "    }\n",
       "</style>\n",
       "<table border=\"1\" class=\"dataframe\">\n",
       "  <thead>\n",
       "    <tr style=\"text-align: right;\">\n",
       "      <th></th>\n",
       "      <th>age</th>\n",
       "      <th>workclass</th>\n",
       "      <th>fnlwgt</th>\n",
       "      <th>education</th>\n",
       "      <th>education-num</th>\n",
       "      <th>marital-status</th>\n",
       "      <th>occupation</th>\n",
       "      <th>relationship</th>\n",
       "      <th>race</th>\n",
       "      <th>sex</th>\n",
       "      <th>capital-gain</th>\n",
       "      <th>capital-loss</th>\n",
       "      <th>hours-per-week</th>\n",
       "      <th>native-country</th>\n",
       "      <th>salary</th>\n",
       "    </tr>\n",
       "  </thead>\n",
       "  <tbody>\n",
       "    <tr>\n",
       "      <th>0</th>\n",
       "      <td>39</td>\n",
       "      <td>State-gov</td>\n",
       "      <td>77516</td>\n",
       "      <td>Bachelors</td>\n",
       "      <td>13</td>\n",
       "      <td>Never-married</td>\n",
       "      <td>Adm-clerical</td>\n",
       "      <td>Not-in-family</td>\n",
       "      <td>White</td>\n",
       "      <td>Male</td>\n",
       "      <td>2174</td>\n",
       "      <td>0</td>\n",
       "      <td>40</td>\n",
       "      <td>United-States</td>\n",
       "      <td>&lt;=50K</td>\n",
       "    </tr>\n",
       "    <tr>\n",
       "      <th>1</th>\n",
       "      <td>50</td>\n",
       "      <td>Self-emp-not-inc</td>\n",
       "      <td>83311</td>\n",
       "      <td>Bachelors</td>\n",
       "      <td>13</td>\n",
       "      <td>Married-civ-spouse</td>\n",
       "      <td>Exec-managerial</td>\n",
       "      <td>Husband</td>\n",
       "      <td>White</td>\n",
       "      <td>Male</td>\n",
       "      <td>0</td>\n",
       "      <td>0</td>\n",
       "      <td>13</td>\n",
       "      <td>United-States</td>\n",
       "      <td>&lt;=50K</td>\n",
       "    </tr>\n",
       "    <tr>\n",
       "      <th>2</th>\n",
       "      <td>38</td>\n",
       "      <td>Private</td>\n",
       "      <td>215646</td>\n",
       "      <td>HS-grad</td>\n",
       "      <td>9</td>\n",
       "      <td>Divorced</td>\n",
       "      <td>Handlers-cleaners</td>\n",
       "      <td>Not-in-family</td>\n",
       "      <td>White</td>\n",
       "      <td>Male</td>\n",
       "      <td>0</td>\n",
       "      <td>0</td>\n",
       "      <td>40</td>\n",
       "      <td>United-States</td>\n",
       "      <td>&lt;=50K</td>\n",
       "    </tr>\n",
       "    <tr>\n",
       "      <th>3</th>\n",
       "      <td>53</td>\n",
       "      <td>Private</td>\n",
       "      <td>234721</td>\n",
       "      <td>11th</td>\n",
       "      <td>7</td>\n",
       "      <td>Married-civ-spouse</td>\n",
       "      <td>Handlers-cleaners</td>\n",
       "      <td>Husband</td>\n",
       "      <td>Black</td>\n",
       "      <td>Male</td>\n",
       "      <td>0</td>\n",
       "      <td>0</td>\n",
       "      <td>40</td>\n",
       "      <td>United-States</td>\n",
       "      <td>&lt;=50K</td>\n",
       "    </tr>\n",
       "    <tr>\n",
       "      <th>4</th>\n",
       "      <td>28</td>\n",
       "      <td>Private</td>\n",
       "      <td>338409</td>\n",
       "      <td>Bachelors</td>\n",
       "      <td>13</td>\n",
       "      <td>Married-civ-spouse</td>\n",
       "      <td>Prof-specialty</td>\n",
       "      <td>Wife</td>\n",
       "      <td>Black</td>\n",
       "      <td>Female</td>\n",
       "      <td>0</td>\n",
       "      <td>0</td>\n",
       "      <td>40</td>\n",
       "      <td>Cuba</td>\n",
       "      <td>&lt;=50K</td>\n",
       "    </tr>\n",
       "  </tbody>\n",
       "</table>\n",
       "</div>"
      ],
      "text/plain": [
       "   age         workclass  fnlwgt  education  education-num  \\\n",
       "0   39         State-gov   77516  Bachelors             13   \n",
       "1   50  Self-emp-not-inc   83311  Bachelors             13   \n",
       "2   38           Private  215646    HS-grad              9   \n",
       "3   53           Private  234721       11th              7   \n",
       "4   28           Private  338409  Bachelors             13   \n",
       "\n",
       "       marital-status         occupation   relationship   race     sex  \\\n",
       "0       Never-married       Adm-clerical  Not-in-family  White    Male   \n",
       "1  Married-civ-spouse    Exec-managerial        Husband  White    Male   \n",
       "2            Divorced  Handlers-cleaners  Not-in-family  White    Male   \n",
       "3  Married-civ-spouse  Handlers-cleaners        Husband  Black    Male   \n",
       "4  Married-civ-spouse     Prof-specialty           Wife  Black  Female   \n",
       "\n",
       "   capital-gain  capital-loss  hours-per-week native-country salary  \n",
       "0          2174             0              40  United-States  <=50K  \n",
       "1             0             0              13  United-States  <=50K  \n",
       "2             0             0              40  United-States  <=50K  \n",
       "3             0             0              40  United-States  <=50K  \n",
       "4             0             0              40           Cuba  <=50K  "
      ]
     },
     "execution_count": 13,
     "metadata": {},
     "output_type": "execute_result"
    }
   ],
   "source": [
    "# Visualization of the first 5 rows of the data\n",
    "df.head(5)"
   ]
  },
  {
   "cell_type": "markdown",
   "id": "60fa6242-4ed3-4798-a077-1f25cf1b1d08",
   "metadata": {},
   "source": [
    "**1. How many people of each race are represented in this dataset? This should be a Pandas series with race names as the index labels. (race column)**"
   ]
  },
  {
   "cell_type": "code",
   "execution_count": 14,
   "id": "31918790-3abc-4235-b622-225ebef93d16",
   "metadata": {},
   "outputs": [
    {
     "name": "stdout",
     "output_type": "stream",
     "text": [
      "Number of each race:\n",
      "  race\n",
      "White                 27816\n",
      "Black                  3124\n",
      "Asian-Pac-Islander     1039\n",
      "Amer-Indian-Eskimo      311\n",
      "Other                   271\n",
      "Name: count, dtype: int64\n"
     ]
    }
   ],
   "source": [
    "race_count = df['race'].value_counts()\n",
    "print (\"Number of each race:\\n \", race_count)"
   ]
  },
  {
   "cell_type": "markdown",
   "id": "bb99706d-3c87-4222-a71c-1e7d08a824b5",
   "metadata": {},
   "source": [
    "**2. What is the average age of men?**"
   ]
  },
  {
   "cell_type": "code",
   "execution_count": 15,
   "id": "ced6f45a-7c68-493f-b869-02e39adccde5",
   "metadata": {},
   "outputs": [
    {
     "name": "stdout",
     "output_type": "stream",
     "text": [
      "Average age of men:  39.4\n"
     ]
    }
   ],
   "source": [
    "average_age_men = df[df['sex'] == 'Male']['age'].mean().round(1)\n",
    "print (\"Average age of men: \", average_age_men)"
   ]
  },
  {
   "cell_type": "markdown",
   "id": "ef60d82c-f241-43a3-b971-ce0790ceac18",
   "metadata": {},
   "source": [
    "**3. What is the percentage of people who have a Bachelor's degree?**"
   ]
  },
  {
   "cell_type": "code",
   "execution_count": 16,
   "id": "9f7c6baa-184d-4feb-81f8-d90b9f270600",
   "metadata": {},
   "outputs": [
    {
     "name": "stdout",
     "output_type": "stream",
     "text": [
      "Percentage with Bachelors degrees:  16.4\n"
     ]
    }
   ],
   "source": [
    "percentage_bachelors = round((len(df[df.education == 'Bachelors']) / len(df.education) * 100), 1)\n",
    "print (\"Percentage with Bachelors degrees: \", percentage_bachelors)"
   ]
  },
  {
   "cell_type": "markdown",
   "id": "187c97d8-e4f8-4fa8-a406-a9f6c3edbfba",
   "metadata": {},
   "source": [
    "**4. What percentage of people with advanced education (Bachelors, Masters, or Doctorate) make more than 50K?**"
   ]
  },
  {
   "cell_type": "code",
   "execution_count": 17,
   "id": "b278e05b-efab-4316-b6b4-8eb47dffccb1",
   "metadata": {},
   "outputs": [
    {
     "name": "stdout",
     "output_type": "stream",
     "text": [
      "Percentage with higher education that earn >50K:  46.5\n"
     ]
    }
   ],
   "source": [
    "higher_education = df[(df.education == 'Bachelors') | (df.education == 'Masters')| (df.education == 'Doctorate')]\n",
    "higher_education_rich = round((len(higher_education[higher_education['salary'] == '>50K']) / len(higher_education) * 100), 1)\n",
    "print (\"Percentage with higher education that earn >50K: \", higher_education_rich)"
   ]
  },
  {
   "cell_type": "markdown",
   "id": "4014f204-3895-495f-8213-b2cfecc258ef",
   "metadata": {},
   "source": [
    "**5. What percentage of people without advanced education make more than 50K?**"
   ]
  },
  {
   "cell_type": "code",
   "execution_count": 18,
   "id": "44846cd0-8cf2-41de-9593-68f883a7534d",
   "metadata": {},
   "outputs": [
    {
     "name": "stdout",
     "output_type": "stream",
     "text": [
      "Percentage without higher education that earn >50K:  17.4\n"
     ]
    }
   ],
   "source": [
    "lower_education = df[(df.education != 'Bachelors') & (df.education != 'Masters') & (df.education != 'Doctorate')] \n",
    "lower_education_rich = round((len(lower_education[lower_education['salary'] == '>50K']) / len(lower_education) * 100), 1)\n",
    "print (\"Percentage without higher education that earn >50K: \", lower_education_rich)"
   ]
  },
  {
   "cell_type": "markdown",
   "id": "b69b7b77-5bc2-4d5e-921b-90ca4c54391e",
   "metadata": {},
   "source": [
    "**6. What is the minimum number of hours a person works per week?**\n"
   ]
  },
  {
   "cell_type": "code",
   "execution_count": 19,
   "id": "52d06c9b-f267-4677-9bbc-48873d9cf81a",
   "metadata": {},
   "outputs": [
    {
     "name": "stdout",
     "output_type": "stream",
     "text": [
      "Min work time:  1 hours/week\n"
     ]
    }
   ],
   "source": [
    "min_work_hours = df['hours-per-week'].min()\n",
    "print (\"Min work time: \", min_work_hours, \"hours/week\")"
   ]
  },
  {
   "cell_type": "markdown",
   "id": "a04ad990-9904-447d-aa2e-9472a4ed4547",
   "metadata": {},
   "source": [
    "**7. What percentage of the people who work the minimum number of hours per week have a salary of more than 50K?**"
   ]
  },
  {
   "cell_type": "code",
   "execution_count": 20,
   "id": "0149b891-98a1-410d-b7e9-980d40da94a3",
   "metadata": {},
   "outputs": [
    {
     "name": "stdout",
     "output_type": "stream",
     "text": [
      "Percentage of rich among those who work fewest hours:  10.0\n"
     ]
    }
   ],
   "source": [
    "workers = df[df['hours-per-week'] == min_work_hours] \n",
    "rich_percentage = (len(workers[workers['salary'] == '>50K']) / len(workers) * 100)\n",
    "print(\"Percentage of rich among those who work fewest hours: \", rich_percentage)"
   ]
  },
  {
   "cell_type": "markdown",
   "id": "d8d8ad5e-4b36-47ad-9f6c-b35d9f3fba27",
   "metadata": {},
   "source": [
    "**8. What country has the highest percentage of people that earn >50K and what is that percentage?**"
   ]
  },
  {
   "cell_type": "code",
   "execution_count": 21,
   "id": "c2052d23-072c-420a-b93c-ccd06baa3c90",
   "metadata": {},
   "outputs": [
    {
     "name": "stdout",
     "output_type": "stream",
     "text": [
      "Country with the highest percentage of rich:  Iran 41.9\n"
     ]
    }
   ],
   "source": [
    "grouped_percent = df.groupby('native-country')['salary'].apply(lambda x: (x == '>50K').mean() * 100).reset_index()\n",
    "highest_percent = grouped_percent[grouped_percent['salary'] == grouped_percent['salary'].max()]\n",
    "highest_earning_country = highest_percent.iloc[0]['native-country']\n",
    "highest_earning_country_percentage = round(highest_percent.iloc[0]['salary'], 1)\n",
    "print (\"Country with the highest percentage of rich: \", highest_earning_country, highest_earning_country_percentage)"
   ]
  },
  {
   "cell_type": "markdown",
   "id": "22c9cb25-bccc-4c3b-9a0c-f372e910db2c",
   "metadata": {},
   "source": [
    "**9. Identify the most popular occupation for those who earn >50K in India.**"
   ]
  },
  {
   "cell_type": "code",
   "execution_count": 22,
   "id": "a017c6c4-0469-42e2-a0bb-6e2bb91cd195",
   "metadata": {},
   "outputs": [
    {
     "name": "stdout",
     "output_type": "stream",
     "text": [
      "Top occupations in India:  Prof-specialty\n"
     ]
    }
   ],
   "source": [
    "india_50k = df[(df['native-country'] == 'India') & (df['salary'] == '>50K')]\n",
    "top_IN_occupation = india_50k['occupation'].mode()[0]\n",
    "print (\"Top occupations in India: \", top_IN_occupation)"
   ]
  },
  {
   "cell_type": "markdown",
   "id": "6802cc00-995f-4cfb-9f54-71fafaac442d",
   "metadata": {},
   "source": [
    "### 1.3 Conlcusions\n",
    "These conclusions provide insights into the distribution of demographic and income-related factors in the dataset. They can be useful for understanding patterns and making informed decisions or further analysis.\n",
    "\n",
    "**Representation of Races:**\n",
    "- White: 27,589 individuals\n",
    "- Black: 3,518 individuals\n",
    "- Asian-Pac-Islander: 1,227 individuals\n",
    "- Amer-Indian-Eskimo: 286 individuals\n",
    "- Other: 271 individuals\n",
    "\n",
    "These figures provide a clear breakdown of racial representation within the dataset.\n",
    "\n",
    "\n",
    "**Average Age of Men:** The average age of men in the dataset is approximately 39.4 years.\n",
    "\n",
    "**Percentage with Bachelor's Degree:** Around 16.4% of individuals in the dataset hold a Bachelor's degree.\n",
    "\n",
    "**Percentage of High Earners with Advanced Education:** Among individuals with advanced education (Bachelor's, Master's, or Doctorate), approximately 55.5% earn more than $50K annually.\n",
    "\n",
    "**Percentage of High Earners without Advanced Education:** Conversely, among individuals without advanced education, approximately 17.4% earn more than $50K annually.\n",
    "\n",
    "**Minimum Working Hours per Week:** The minimum number of hours worked per week is 1 hour.\n",
    "\n",
    "**Percentage of High Earners among Minimum Wage Workers:** Surprisingly, 10% of individuals working the minimum hours per week earn above $50K, indicating potential outliers or part-time high earners.\n",
    "\n",
    "**Country with Highest Proportion of High Earners:** The country with the highest percentage of individuals earning above $50K is Luxembourg, with approximately 44.4% of its residents falling into this category.\n",
    "\n",
    "**Popular Occupations among High Earners in India:** Among high earners from India, the most common occupation is in the 'Prof-specialty' field, indicating a preference for professional roles among this group.\n"
   ]
  }
 ],
 "metadata": {
  "kernelspec": {
   "display_name": "Python 3 (ipykernel)",
   "language": "python",
   "name": "python3"
  },
  "language_info": {
   "codemirror_mode": {
    "name": "ipython",
    "version": 3
   },
   "file_extension": ".py",
   "mimetype": "text/x-python",
   "name": "python",
   "nbconvert_exporter": "python",
   "pygments_lexer": "ipython3",
   "version": "3.11.5"
  }
 },
 "nbformat": 4,
 "nbformat_minor": 5
}
